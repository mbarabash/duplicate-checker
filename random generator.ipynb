{
 "cells": [
  {
   "cell_type": "code",
   "execution_count": 6,
   "metadata": {
    "ExecuteTime": {
     "end_time": "2019-09-14T06:38:43.744173Z",
     "start_time": "2019-09-14T06:38:43.740173Z"
    }
   },
   "outputs": [],
   "source": [
    "import math"
   ]
  },
  {
   "cell_type": "code",
   "execution_count": 5,
   "metadata": {
    "ExecuteTime": {
     "end_time": "2019-09-14T06:37:09.690999Z",
     "start_time": "2019-09-14T06:37:09.664000Z"
    }
   },
   "outputs": [],
   "source": [
    "class player:\n",
    "    def __init__(self, demo, scout, soldier, medic):\n",
    "        self.demo = demo\n",
    "        self.scout = scout\n",
    "        self.soldier = soldier\n",
    "        self.medic = medic\n",
    "        self.elo = 1600\n",
    "        \n",
    "    "
   ]
  },
  {
   "cell_type": "code",
   "execution_count": 4,
   "metadata": {
    "ExecuteTime": {
     "end_time": "2019-09-13T23:52:19.884171Z",
     "start_time": "2019-09-13T23:52:19.877171Z"
    }
   },
   "outputs": [],
   "source": [
    "reako = player(True, True, True, True)\n",
    "rex = player(True, False, True, True)\n",
    "guitar = player(False, True, False, False)\n",
    "snarfl = player(False, True, True, True)"
   ]
  },
  {
   "cell_type": "markdown",
   "metadata": {},
   "source": [
    "P1: Probability of winning of player with rating2\n",
    "\n",
    "P2: Probability of winning of player with rating1.\n",
    "\n",
    "P1 = (1.0 / (1.0 + pow(10, ((rating1 – rating2) / 400))));\n",
    "\n",
    "P2 = (1.0 / (1.0 + pow(10, ((rating2 – rating1) / 400))));\n",
    "\n",
    "Obviously, P1 + P2 = 1.\n",
    "\n",
    "The rating of player is updated using the formula given below :-\n",
    "\n",
    "rating1 = rating1 + K*(Actual Score – Expected score);\n",
    "\n",
    "In most of the games, “Actual Score” is either 0 or 1 means player either wins or loose. K is a constant. If K is of a lower value, then the rating is changed by a small fraction but if K is of a higher value, then the changes in the rating are significant. Different organizations set a different value of K. "
   ]
  },
  {
   "cell_type": "markdown",
   "metadata": {},
   "source": [
    "Suppose there is a live match on chess.com between two players\n",
    "\n",
    "rating1 = 1200, rating2 = 1000;\n",
    "\n",
    "P1 = (1.0 / (1.0 + pow(10, ((1000-1200) / 400)))) = 0.76\n",
    "\n",
    "P2 = (1.0 / (1.0 + pow(10, ((1200-1000) / 400)))) = 0.24\n",
    "\n",
    "And Assume constant K=30;\n",
    "\n",
    "CASE-1 : Suppose Player 1 wins:\n",
    "\n",
    "rating1 = rating1 + k*(actual – expected) = 1200+30(1 – 0.76) = 1207.2;\n",
    "\n",
    "rating2 = rating2 + k*(actual – expected) = 1000+30(0 – 0.24) = 992.8;\n",
    "\n",
    "Case-2 : Suppose Player 2 wins:\n",
    "\n",
    "rating1 = rating1 + k*(actual – expected) = 1200+30(0 – 0.76) = 1177.2;\n",
    "\n",
    "rating2 = rating2 + k*(actual – expected) = 1000+30(1 – 0.24) = 1022.8; "
   ]
  },
  {
   "cell_type": "code",
   "execution_count": null,
   "metadata": {},
   "outputs": [],
   "source": [
    "def applyelo(winteam, loseteam):\n",
    "    "
   ]
  },
  {
   "cell_type": "code",
   "execution_count": 3,
   "metadata": {
    "ExecuteTime": {
     "end_time": "2019-09-13T23:49:21.564018Z",
     "start_time": "2019-09-13T23:49:21.550018Z"
    }
   },
   "outputs": [
    {
     "data": {
      "text/plain": [
       "True"
      ]
     },
     "execution_count": 3,
     "metadata": {},
     "output_type": "execute_result"
    }
   ],
   "source": [
    "def makeTeams(addup):\n",
    "    demoamount = 0\n",
    "    scoutamount = 0\n",
    "    medicamount = 0\n",
    "    soldieramount = 0\n",
    "    \n",
    "    demodict = {}\n",
    "    scoutdict = {}\n",
    "    medicdict = {}\n",
    "    soldierdict = {}\n",
    "    \n",
    "    \n",
    "    for b, a in enumerate(addup):\n",
    "        if a.demo:\n",
    "            demoamount+=1\n",
    "            demodict []\n",
    "            \n",
    "        if a.scout:\n",
    "            scoutamount+=1\n",
    "        if a.medic:\n",
    "            medicamount+=1\n",
    "        if a.soldier:\n",
    "            soldieramount+=1\n",
    "    added = len(addup)\n",
    "    if \n",
    "    "
   ]
  },
  {
   "cell_type": "code",
   "execution_count": null,
   "metadata": {},
   "outputs": [],
   "source": []
  }
 ],
 "metadata": {
  "kernelspec": {
   "display_name": "Python 3",
   "language": "python",
   "name": "python3"
  },
  "language_info": {
   "codemirror_mode": {
    "name": "ipython",
    "version": 3
   },
   "file_extension": ".py",
   "mimetype": "text/x-python",
   "name": "python",
   "nbconvert_exporter": "python",
   "pygments_lexer": "ipython3",
   "version": "3.6.4"
  }
 },
 "nbformat": 4,
 "nbformat_minor": 2
}
