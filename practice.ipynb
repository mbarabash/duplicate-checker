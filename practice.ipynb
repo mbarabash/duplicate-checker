{
 "cells": [
  {
   "cell_type": "markdown",
   "metadata": {},
   "source": [
    "# total"
   ]
  },
  {
   "cell_type": "code",
   "execution_count": 1,
   "metadata": {
    "ExecuteTime": {
     "end_time": "2019-01-21T17:27:18.898591Z",
     "start_time": "2019-01-21T17:26:54.921553Z"
    },
    "scrolled": true
   },
   "outputs": [
    {
     "name": "stderr",
     "output_type": "stream",
     "text": [
      "C:\\ProgramData\\Anaconda3\\lib\\site-packages\\h5py\\__init__.py:36: FutureWarning: Conversion of the second argument of issubdtype from `float` to `np.floating` is deprecated. In future, it will be treated as `np.float64 == np.dtype(float).type`.\n",
      "  from ._conv import register_converters as _register_converters\n"
     ]
    }
   ],
   "source": [
    "import os\n",
    "import tensorflow as tf\n",
    "import numpy as np"
   ]
  },
  {
   "cell_type": "code",
   "execution_count": 5,
   "metadata": {
    "ExecuteTime": {
     "end_time": "2019-01-21T17:28:35.032756Z",
     "start_time": "2019-01-21T17:28:34.960757Z"
    }
   },
   "outputs": [],
   "source": [
    "from PIL import Image\n",
    "import glob\n",
    "import re\n",
    "import lxml"
   ]
  },
  {
   "cell_type": "code",
   "execution_count": 1,
   "metadata": {},
   "outputs": [
    {
     "name": "stdout",
     "output_type": "stream",
     "text": [
      "lemon pear watermelon tomato\n",
      "***\n",
      "['lemon', 'pear', 'watermelon', 'tomato']\n",
      "***\n",
      "lemon pear watermelon tomato\n"
     ]
    }
   ],
   "source": [
    "fruits = ['lemon', 'pear', 'watermelon', 'tomato']\n",
    "print(fruits[0], fruits[1], fruits[2], fruits[3])\n",
    "print('***')\n",
    "print(fruits)\n",
    "print('***')\n",
    "print(*fruits)"
   ]
  },
  {
   "cell_type": "code",
   "execution_count": 3,
   "metadata": {},
   "outputs": [
    {
     "data": {
      "text/plain": [
       "0"
      ]
     },
     "execution_count": 3,
     "metadata": {},
     "output_type": "execute_result"
    }
   ],
   "source": [
    "os.system(\"dir\")\n",
    "os.system(\"cd\")"
   ]
  },
  {
   "cell_type": "code",
   "execution_count": 16,
   "metadata": {},
   "outputs": [
    {
     "name": "stdout",
     "output_type": "stream",
     "text": [
      "jupyter\\assignment1\n",
      "jupyter\\assignment2\n",
      "jupyter\\practice.ipynb\n",
      "jupyter\\repository\n",
      "jupyter\\spring1617_assignment3_v3\n"
     ]
    }
   ],
   "source": [
    "for a in glob.glob(\"jupyter\\*\"):\n",
    "    print (a)"
   ]
  },
  {
   "cell_type": "code",
   "execution_count": 3,
   "metadata": {
    "ExecuteTime": {
     "end_time": "2019-01-21T17:28:22.758917Z",
     "start_time": "2019-01-21T17:28:22.754917Z"
    }
   },
   "outputs": [],
   "source": [
    "os.chdir('C:\\\\Users\\\\Misha\\\\Documents\\\\blender\\\\testpicfix')"
   ]
  },
  {
   "cell_type": "code",
   "execution_count": 18,
   "metadata": {
    "ExecuteTime": {
     "end_time": "2019-01-21T18:26:08.874881Z",
     "start_time": "2019-01-21T18:26:08.634879Z"
    },
    "scrolled": true
   },
   "outputs": [
    {
     "name": "stdout",
     "output_type": "stream",
     "text": [
      " Volume in drive C has no label.\n",
      " Volume Serial Number is 22AD-19D4\n",
      "\n",
      " Directory of C:\\Users\\Misha\\Documents\\blender\\testpicfix\n",
      "\n",
      "21-Jan-19  01:25 PM    <DIR>          .\n",
      "21-Jan-19  01:25 PM    <DIR>          ..\n",
      "21-Jan-19  11:41 AM             2,016 angles.csv\n",
      "21-Jan-19  11:41 AM            11,404 pic_148_1_1_raw.png\n",
      "21-Jan-19  11:41 AM             2,081 pic_148_1_1_ref-tailend.png\n",
      "21-Jan-19  11:41 AM            11,067 pic_148_1_4_raw.png\n",
      "21-Jan-19  11:41 AM             2,063 pic_148_1_4_ref-tailend.png\n",
      "21-Jan-19  11:41 AM            11,464 pic_148_1_7_raw.png\n",
      "21-Jan-19  11:41 AM             1,895 pic_148_1_7_ref-tailend.png\n",
      "21-Jan-19  11:41 AM            11,075 pic_148_4_1_raw.png\n",
      "21-Jan-19  11:41 AM             2,120 pic_148_4_1_ref-tailend.png\n",
      "21-Jan-19  11:41 AM            11,159 pic_148_4_4_raw.png\n",
      "21-Jan-19  11:41 AM             2,106 pic_148_4_4_ref-tailend.png\n",
      "21-Jan-19  11:41 AM            11,976 pic_148_4_7_raw.png\n",
      "21-Jan-19  11:41 AM             2,163 pic_148_4_7_ref-tailend.png\n",
      "21-Jan-19  11:41 AM            10,922 pic_148_7_1_raw.png\n",
      "21-Jan-19  11:41 AM             2,145 pic_148_7_1_ref-tailend.png\n",
      "21-Jan-19  11:41 AM            11,615 pic_148_7_4_raw.png\n",
      "21-Jan-19  11:41 AM             2,152 pic_148_7_4_ref-tailend.png\n",
      "21-Jan-19  11:41 AM            12,126 pic_148_7_7_raw.png\n",
      "21-Jan-19  11:41 AM             2,186 pic_148_7_7_ref-tailend.png\n",
      "21-Jan-19  11:41 AM            13,852 pic_149_1_1_raw.png\n",
      "21-Jan-19  11:41 AM             2,038 pic_149_1_1_ref-tailend.png\n",
      "21-Jan-19  11:41 AM            14,052 pic_149_1_4_raw.png\n",
      "21-Jan-19  11:41 AM             2,047 pic_149_1_4_ref-tailend.png\n",
      "21-Jan-19  11:41 AM            14,603 pic_149_1_7_raw.png\n",
      "21-Jan-19  11:41 AM             2,155 pic_149_1_7_ref-tailend.png\n",
      "21-Jan-19  11:41 AM            14,402 pic_149_4_1_raw.png\n",
      "21-Jan-19  11:41 AM             2,126 pic_149_4_1_ref-tailend.png\n",
      "21-Jan-19  11:41 AM            14,180 pic_149_4_4_raw.png\n",
      "21-Jan-19  11:41 AM             2,086 pic_149_4_4_ref-tailend.png\n",
      "21-Jan-19  11:41 AM            14,498 pic_149_4_7_raw.png\n",
      "21-Jan-19  11:41 AM             2,160 pic_149_4_7_ref-tailend.png\n",
      "21-Jan-19  11:41 AM            14,443 pic_149_7_1_raw.png\n",
      "21-Jan-19  11:41 AM             2,060 pic_149_7_1_ref-tailend.png\n",
      "21-Jan-19  11:41 AM            14,333 pic_149_7_4_raw.png\n",
      "21-Jan-19  11:41 AM             2,150 pic_149_7_4_ref-tailend.png\n",
      "21-Jan-19  11:41 AM            14,210 pic_149_7_7_raw.png\n",
      "21-Jan-19  11:41 AM             2,084 pic_149_7_7_ref-tailend.png\n",
      "21-Jan-19  11:41 AM            11,825 pic_150_1_1_raw.png\n",
      "21-Jan-19  11:41 AM             1,898 pic_150_1_1_ref-tailend.png\n",
      "21-Jan-19  11:41 AM            11,506 pic_150_1_4_raw.png\n",
      "21-Jan-19  11:41 AM             2,040 pic_150_1_4_ref-tailend.png\n",
      "21-Jan-19  11:41 AM            11,978 pic_150_1_7_raw.png\n",
      "21-Jan-19  11:41 AM             2,025 pic_150_1_7_ref-tailend.png\n",
      "21-Jan-19  11:41 AM            12,037 pic_150_4_1_raw.png\n",
      "21-Jan-19  11:41 AM             2,030 pic_150_4_1_ref-tailend.png\n",
      "21-Jan-19  11:41 AM            11,798 pic_150_4_4_raw.png\n",
      "21-Jan-19  11:41 AM             2,053 pic_150_4_4_ref-tailend.png\n",
      "21-Jan-19  11:41 AM            11,966 pic_150_4_7_raw.png\n",
      "21-Jan-19  11:41 AM             1,999 pic_150_4_7_ref-tailend.png\n",
      "21-Jan-19  11:41 AM            11,864 pic_150_7_1_raw.png\n",
      "21-Jan-19  11:41 AM             2,028 pic_150_7_1_ref-tailend.png\n",
      "21-Jan-19  11:41 AM            11,839 pic_150_7_4_raw.png\n",
      "21-Jan-19  11:41 AM             2,055 pic_150_7_4_ref-tailend.png\n",
      "21-Jan-19  11:41 AM            11,871 pic_150_7_7_raw.png\n",
      "21-Jan-19  11:41 AM             2,032 pic_150_7_7_ref-tailend.png\n",
      "              55 File(s)        396,058 bytes\n",
      "               2 Dir(s)  358,225,104,896 bytes free\n"
     ]
    }
   ],
   "source": [
    "!dir"
   ]
  },
  {
   "cell_type": "markdown",
   "metadata": {},
   "source": [
    "##### rename files"
   ]
  },
  {
   "cell_type": "code",
   "execution_count": 6,
   "metadata": {
    "ExecuteTime": {
     "end_time": "2019-01-21T17:35:34.075638Z",
     "start_time": "2019-01-21T17:35:34.058639Z"
    },
    "scrolled": true
   },
   "outputs": [
    {
     "data": {
      "text/plain": [
       "['pic_0_1_1_raw.png',\n",
       " 'pic_0_1_1_ref-tailend.png',\n",
       " 'pic_0_1_4_raw.png',\n",
       " 'pic_0_1_4_ref-tailend.png',\n",
       " 'pic_0_1_7_raw.png',\n",
       " 'pic_0_1_7_ref-tailend.png',\n",
       " 'pic_0_4_1_raw.png',\n",
       " 'pic_0_4_1_ref-tailend.png',\n",
       " 'pic_0_4_4_raw.png',\n",
       " 'pic_0_4_4_ref-tailend.png',\n",
       " 'pic_0_4_7_raw.png',\n",
       " 'pic_0_4_7_ref-tailend.png',\n",
       " 'pic_0_7_1_raw.png',\n",
       " 'pic_0_7_1_ref-tailend.png',\n",
       " 'pic_0_7_4_raw.png',\n",
       " 'pic_0_7_4_ref-tailend.png',\n",
       " 'pic_0_7_7_raw.png',\n",
       " 'pic_0_7_7_ref-tailend.png',\n",
       " 'pic_1_1_1_raw.png',\n",
       " 'pic_1_1_1_ref-tailend.png',\n",
       " 'pic_1_1_4_raw.png',\n",
       " 'pic_1_1_4_ref-tailend.png',\n",
       " 'pic_1_1_7_raw.png',\n",
       " 'pic_1_1_7_ref-tailend.png',\n",
       " 'pic_1_4_1_raw.png',\n",
       " 'pic_1_4_1_ref-tailend.png',\n",
       " 'pic_1_4_4_raw.png',\n",
       " 'pic_1_4_4_ref-tailend.png',\n",
       " 'pic_1_4_7_raw.png',\n",
       " 'pic_1_4_7_ref-tailend.png',\n",
       " 'pic_1_7_1_raw.png',\n",
       " 'pic_1_7_1_ref-tailend.png',\n",
       " 'pic_1_7_4_raw.png',\n",
       " 'pic_1_7_4_ref-tailend.png',\n",
       " 'pic_1_7_7_raw.png',\n",
       " 'pic_1_7_7_ref-tailend.png',\n",
       " 'pic_2_1_1_raw.png',\n",
       " 'pic_2_1_1_ref-tailend.png',\n",
       " 'pic_2_1_4_raw.png',\n",
       " 'pic_2_1_4_ref-tailend.png',\n",
       " 'pic_2_1_7_raw.png',\n",
       " 'pic_2_1_7_ref-tailend.png',\n",
       " 'pic_2_4_1_raw.png',\n",
       " 'pic_2_4_1_ref-tailend.png',\n",
       " 'pic_2_4_4_raw.png',\n",
       " 'pic_2_4_4_ref-tailend.png',\n",
       " 'pic_2_4_7_raw.png',\n",
       " 'pic_2_4_7_ref-tailend.png',\n",
       " 'pic_2_7_1_raw.png',\n",
       " 'pic_2_7_1_ref-tailend.png',\n",
       " 'pic_2_7_4_raw.png',\n",
       " 'pic_2_7_4_ref-tailend.png',\n",
       " 'pic_2_7_7_raw.png',\n",
       " 'pic_2_7_7_ref-tailend.png']"
      ]
     },
     "execution_count": 6,
     "metadata": {},
     "output_type": "execute_result"
    }
   ],
   "source": [
    "glob.glob(\"*.png\")"
   ]
  },
  {
   "cell_type": "code",
   "execution_count": 15,
   "metadata": {
    "ExecuteTime": {
     "end_time": "2019-01-21T17:45:04.896610Z",
     "start_time": "2019-01-21T17:45:04.879611Z"
    }
   },
   "outputs": [
    {
     "name": "stdout",
     "output_type": "stream",
     "text": [
      "pic_0_1_1_raw.png \n",
      " pic_148_1_1_raw.png  thank u next\n",
      "pic_0_1_1_ref-tailend.png \n",
      " pic_148_1_1_ref-tailend.png  thank u next\n",
      "pic_0_1_4_raw.png \n",
      " pic_148_1_4_raw.png  thank u next\n",
      "pic_0_1_4_ref-tailend.png \n",
      " pic_148_1_4_ref-tailend.png  thank u next\n",
      "pic_0_1_7_raw.png \n",
      " pic_148_1_7_raw.png  thank u next\n",
      "pic_0_1_7_ref-tailend.png \n",
      " pic_148_1_7_ref-tailend.png  thank u next\n",
      "pic_0_4_1_raw.png \n",
      " pic_148_4_1_raw.png  thank u next\n",
      "pic_0_4_1_ref-tailend.png \n",
      " pic_148_4_1_ref-tailend.png  thank u next\n",
      "pic_0_4_4_raw.png \n",
      " pic_148_4_4_raw.png  thank u next\n",
      "pic_0_4_4_ref-tailend.png \n",
      " pic_148_4_4_ref-tailend.png  thank u next\n",
      "pic_0_4_7_raw.png \n",
      " pic_148_4_7_raw.png  thank u next\n",
      "pic_0_4_7_ref-tailend.png \n",
      " pic_148_4_7_ref-tailend.png  thank u next\n",
      "pic_0_7_1_raw.png \n",
      " pic_148_7_1_raw.png  thank u next\n",
      "pic_0_7_1_ref-tailend.png \n",
      " pic_148_7_1_ref-tailend.png  thank u next\n",
      "pic_0_7_4_raw.png \n",
      " pic_148_7_4_raw.png  thank u next\n",
      "pic_0_7_4_ref-tailend.png \n",
      " pic_148_7_4_ref-tailend.png  thank u next\n",
      "pic_0_7_7_raw.png \n",
      " pic_148_7_7_raw.png  thank u next\n",
      "pic_0_7_7_ref-tailend.png \n",
      " pic_148_7_7_ref-tailend.png  thank u next\n",
      "pic_1_1_1_raw.png \n",
      " pic_149_1_1_raw.png  thank u next\n",
      "pic_1_1_1_ref-tailend.png \n",
      " pic_149_1_1_ref-tailend.png  thank u next\n",
      "pic_1_1_4_raw.png \n",
      " pic_149_1_4_raw.png  thank u next\n",
      "pic_1_1_4_ref-tailend.png \n",
      " pic_149_1_4_ref-tailend.png  thank u next\n",
      "pic_1_1_7_raw.png \n",
      " pic_149_1_7_raw.png  thank u next\n",
      "pic_1_1_7_ref-tailend.png \n",
      " pic_149_1_7_ref-tailend.png  thank u next\n",
      "pic_1_4_1_raw.png \n",
      " pic_149_4_1_raw.png  thank u next\n",
      "pic_1_4_1_ref-tailend.png \n",
      " pic_149_4_1_ref-tailend.png  thank u next\n",
      "pic_1_4_4_raw.png \n",
      " pic_149_4_4_raw.png  thank u next\n",
      "pic_1_4_4_ref-tailend.png \n",
      " pic_149_4_4_ref-tailend.png  thank u next\n",
      "pic_1_4_7_raw.png \n",
      " pic_149_4_7_raw.png  thank u next\n",
      "pic_1_4_7_ref-tailend.png \n",
      " pic_149_4_7_ref-tailend.png  thank u next\n",
      "pic_1_7_1_raw.png \n",
      " pic_149_7_1_raw.png  thank u next\n",
      "pic_1_7_1_ref-tailend.png \n",
      " pic_149_7_1_ref-tailend.png  thank u next\n",
      "pic_1_7_4_raw.png \n",
      " pic_149_7_4_raw.png  thank u next\n",
      "pic_1_7_4_ref-tailend.png \n",
      " pic_149_7_4_ref-tailend.png  thank u next\n",
      "pic_1_7_7_raw.png \n",
      " pic_149_7_7_raw.png  thank u next\n",
      "pic_1_7_7_ref-tailend.png \n",
      " pic_149_7_7_ref-tailend.png  thank u next\n",
      "pic_2_1_1_raw.png \n",
      " pic_150_1_1_raw.png  thank u next\n",
      "pic_2_1_1_ref-tailend.png \n",
      " pic_150_1_1_ref-tailend.png  thank u next\n",
      "pic_2_1_4_raw.png \n",
      " pic_150_1_4_raw.png  thank u next\n",
      "pic_2_1_4_ref-tailend.png \n",
      " pic_150_1_4_ref-tailend.png  thank u next\n",
      "pic_2_1_7_raw.png \n",
      " pic_150_1_7_raw.png  thank u next\n",
      "pic_2_1_7_ref-tailend.png \n",
      " pic_150_1_7_ref-tailend.png  thank u next\n",
      "pic_2_4_1_raw.png \n",
      " pic_150_4_1_raw.png  thank u next\n",
      "pic_2_4_1_ref-tailend.png \n",
      " pic_150_4_1_ref-tailend.png  thank u next\n",
      "pic_2_4_4_raw.png \n",
      " pic_150_4_4_raw.png  thank u next\n",
      "pic_2_4_4_ref-tailend.png \n",
      " pic_150_4_4_ref-tailend.png  thank u next\n",
      "pic_2_4_7_raw.png \n",
      " pic_150_4_7_raw.png  thank u next\n",
      "pic_2_4_7_ref-tailend.png \n",
      " pic_150_4_7_ref-tailend.png  thank u next\n",
      "pic_2_7_1_raw.png \n",
      " pic_150_7_1_raw.png  thank u next\n",
      "pic_2_7_1_ref-tailend.png \n",
      " pic_150_7_1_ref-tailend.png  thank u next\n",
      "pic_2_7_4_raw.png \n",
      " pic_150_7_4_raw.png  thank u next\n",
      "pic_2_7_4_ref-tailend.png \n",
      " pic_150_7_4_ref-tailend.png  thank u next\n",
      "pic_2_7_7_raw.png \n",
      " pic_150_7_7_raw.png  thank u next\n",
      "pic_2_7_7_ref-tailend.png \n",
      " pic_150_7_7_ref-tailend.png  thank u next\n"
     ]
    }
   ],
   "source": [
    "counter = 148 \n",
    "counter18 = 1\n",
    "for a in glob.glob(\"*.png\"):\n",
    "    print(a,\"\\n\", a[:4]+str(counter)+a[5:], \" thank u next\")   \n",
    "    counter18+=1\n",
    "    if (counter18==19):\n",
    "        counter18=1\n",
    "        counter+=1"
   ]
  },
  {
   "cell_type": "code",
   "execution_count": 17,
   "metadata": {
    "ExecuteTime": {
     "end_time": "2019-01-21T18:25:49.068170Z",
     "start_time": "2019-01-21T18:25:48.684176Z"
    }
   },
   "outputs": [],
   "source": [
    "counter = 148 \n",
    "counter18 = 1\n",
    "for a in glob.glob(\"*.png\"):\n",
    "    os.rename(a, a[:4]+str(counter)+a[5:])   \n",
    "    counter18+=1\n",
    "    if (counter18==19):\n",
    "        counter18=1\n",
    "        counter+=1"
   ]
  },
  {
   "cell_type": "code",
   "execution_count": null,
   "metadata": {},
   "outputs": [],
   "source": [
    "counter=1\n",
    "for a in glob.glob(\"*.png\"):\n",
    "    os.rename(a, a[3]+counter+a[:4])   \n",
    "    counter++\n",
    "    if (counter==19):\n",
    "        counter=1"
   ]
  },
  {
   "cell_type": "code",
   "execution_count": 20,
   "metadata": {},
   "outputs": [],
   "source": [
    "for a in glob.glob(\"annotations/*.xml\"):\n",
    "    with open(a,\"r\") as source:\n",
    "        lines=source.readlines()\n",
    "    with open(a,\"w\") as target:\n",
    "        for line in lines:\n",
    "            target.write(re.sub(\"jpg\", \"png\", line))"
   ]
  },
  {
   "cell_type": "markdown",
   "metadata": {},
   "source": [
    "##### rest of things idk"
   ]
  },
  {
   "cell_type": "code",
   "execution_count": null,
   "metadata": {},
   "outputs": [],
   "source": [
    "# %load generate_tfrecord.py\n",
    "\"\"\"\n",
    "Usage:\n",
    "  # From tensorflow/models/\n",
    "  # Create train data:\n",
    "  python generate_tfrecord.py --csv_input=data/train_labels.csv  --output_path=train.record\n",
    "\n",
    "  # Create test data:\n",
    "  python generate_tfrecord.py --csv_input=data/test_labels.csv  --output_path=test.record\n",
    "\"\"\"\n",
    "from __future__ import division\n",
    "from __future__ import print_function\n",
    "from __future__ import absolute_import\n",
    "\n",
    "import os\n",
    "import io\n",
    "import pandas as pd\n",
    "import tensorflow as tf\n",
    "\n",
    "from PIL import Image\n",
    "from object_detection.utils import dataset_util\n",
    "from collections import namedtuple, OrderedDict\n",
    "\n",
    "flags = tf.app.flags\n",
    "flags.DEFINE_string('csv_input', '', 'Path to the CSV input')\n",
    "flags.DEFINE_string('output_path', '', 'Path to output TFRecord')\n",
    "FLAGS = flags.FLAGS\n",
    "\n",
    "\n",
    "# TO-DO replace this with label map\n",
    "def class_text_to_int(row_label):\n",
    "    if row_label == 'raccoon':\n",
    "        return 1\n",
    "    else:\n",
    "        None\n",
    "\n",
    "\n",
    "def split(df, group):\n",
    "    data = namedtuple('data', ['filename', 'object'])\n",
    "    gb = df.groupby(group)\n",
    "    return [data(filename, gb.get_group(x)) for filename, x in zip(gb.groups.keys(), gb.groups)]\n",
    "\n",
    "\n",
    "def create_tf_example(group, path):\n",
    "    with tf.gfile.GFile(os.path.join(path, '{}'.format(group.filename)), 'rb') as fid:\n",
    "        encoded_jpg = fid.read()\n",
    "    encoded_jpg_io = io.BytesIO(encoded_jpg)\n",
    "    image = Image.open(encoded_jpg_io)\n",
    "    width, height = image.size\n",
    "\n",
    "    filename = group.filename.encode('utf8')\n",
    "    image_format = b'jpg'\n",
    "    xmins = []\n",
    "    xmaxs = []\n",
    "    ymins = []\n",
    "    ymaxs = []\n",
    "    classes_text = []\n",
    "    classes = []\n",
    "\n",
    "    for index, row in group.object.iterrows():\n",
    "        xmins.append(row['xmin'] / width)\n",
    "        xmaxs.append(row['xmax'] / width)\n",
    "        ymins.append(row['ymin'] / height)\n",
    "        ymaxs.append(row['ymax'] / height)\n",
    "        classes_text.append(row['class'].encode('utf8'))\n",
    "        classes.append(class_text_to_int(row['class']))\n",
    "\n",
    "    tf_example = tf.train.Example(features=tf.train.Features(feature={\n",
    "        'image/height': dataset_util.int64_feature(height),\n",
    "        'image/width': dataset_util.int64_feature(width),\n",
    "        'image/filename': dataset_util.bytes_feature(filename),\n",
    "        'image/source_id': dataset_util.bytes_feature(filename),\n",
    "        'image/encoded': dataset_util.bytes_feature(encoded_jpg),\n",
    "        'image/format': dataset_util.bytes_feature(image_format),\n",
    "        'image/object/bbox/xmin': dataset_util.float_list_feature(xmins),\n",
    "        'image/object/bbox/xmax': dataset_util.float_list_feature(xmaxs),\n",
    "        'image/object/bbox/ymin': dataset_util.float_list_feature(ymins),\n",
    "        'image/object/bbox/ymax': dataset_util.float_list_feature(ymaxs),\n",
    "        'image/object/class/text': dataset_util.bytes_list_feature(classes_text),\n",
    "        'image/object/class/label': dataset_util.int64_list_feature(classes),\n",
    "    }))\n",
    "    return tf_example\n",
    "\n",
    "\n",
    "def main(_):\n",
    "    writer = tf.python_io.TFRecordWriter(FLAGS.output_path)\n",
    "    path = os.path.join(os.getcwd(), 'images')\n",
    "    examples = pd.read_csv(FLAGS.csv_input)\n",
    "    grouped = split(examples, 'filename')\n",
    "    for group in grouped:\n",
    "        tf_example = create_tf_example(group, path)\n",
    "        writer.write(tf_example.SerializeToString())\n",
    "\n",
    "    writer.close()\n",
    "    output_path = os.path.join(os.getcwd(), FLAGS.output_path)\n",
    "    print('Successfully created the TFRecords: {}'.format(output_path))\n",
    "\n",
    "\n",
    "if __name__ == '__main__':\n",
    "    tf.app.run()\n"
   ]
  },
  {
   "cell_type": "code",
   "execution_count": 27,
   "metadata": {},
   "outputs": [
    {
     "data": {
      "text/plain": [
       "'C:\\\\Users\\\\Misha\\\\Downloads\\\\raccoon_dataset-master\\\\images'"
      ]
     },
     "execution_count": 27,
     "metadata": {},
     "output_type": "execute_result"
    }
   ],
   "source": [
    "dirname"
   ]
  },
  {
   "cell_type": "code",
   "execution_count": 30,
   "metadata": {
    "scrolled": true
   },
   "outputs": [
    {
     "name": "stdout",
     "output_type": "stream",
     "text": [
      "1201raccoon-1..png\n",
      "1202raccoon-10..png\n",
      "1203raccoon-100..png\n",
      "1204raccoon-101..png\n",
      "1205raccoon-102..png\n",
      "1206raccoon-103..png\n",
      "1207raccoon-104..png\n",
      "1208raccoon-105..png\n",
      "1209raccoon-106..png\n",
      "1210raccoon-107..png\n",
      "1211raccoon-108..png\n",
      "1212raccoon-109..png\n",
      "1213raccoon-11..png\n",
      "1214raccoon-110..png\n",
      "1215raccoon-111..png\n",
      "1216raccoon-112..png\n",
      "1217raccoon-113..png\n",
      "1218raccoon-114..png\n",
      "1219raccoon-115..png\n",
      "1220raccoon-116..png\n",
      "1221raccoon-117..png\n",
      "1222raccoon-118..png\n",
      "1223raccoon-119..png\n",
      "1224raccoon-12..png\n",
      "1225raccoon-120..png\n",
      "1226raccoon-121..png\n",
      "1227raccoon-122..png\n",
      "1228raccoon-123..png\n",
      "1229raccoon-124..png\n",
      "1230raccoon-125..png\n",
      "1231raccoon-126..png\n",
      "1232raccoon-127..png\n",
      "1233raccoon-128..png\n",
      "1234raccoon-129..png\n",
      "1235raccoon-13..png\n",
      "1236raccoon-130..png\n",
      "1237raccoon-131..png\n",
      "1238raccoon-132..png\n",
      "1239raccoon-133..png\n",
      "1240raccoon-134..png\n",
      "1241raccoon-135..png\n",
      "1242raccoon-136..png\n",
      "1243raccoon-137..png\n",
      "1244raccoon-138..png\n",
      "1245raccoon-139..png\n",
      "1246raccoon-14..png\n",
      "1247raccoon-140..png\n",
      "1248raccoon-141..png\n",
      "1249raccoon-142..png\n",
      "1250raccoon-143..png\n",
      "1251raccoon-144..png\n",
      "1252raccoon-145..png\n",
      "1253raccoon-146..png\n",
      "1254raccoon-147..png\n",
      "1255raccoon-148..png\n",
      "1256raccoon-149..png\n",
      "1257raccoon-15..png\n",
      "1258raccoon-150..png\n",
      "1259raccoon-151..png\n",
      "1260raccoon-152..png\n",
      "1261raccoon-153..png\n",
      "1262raccoon-154..png\n",
      "1263raccoon-155..png\n",
      "1264raccoon-156..png\n",
      "1265raccoon-157..png\n",
      "1266raccoon-158..png\n",
      "1267raccoon-159..png\n",
      "1268raccoon-16..png\n",
      "1269raccoon-160..png\n",
      "1270raccoon-161..png\n",
      "1271raccoon-162..png\n",
      "1272raccoon-163..png\n",
      "1273raccoon-164..png\n",
      "1274raccoon-165..png\n",
      "1275raccoon-166..png\n",
      "1276raccoon-167..png\n",
      "1277raccoon-168..png\n",
      "1278raccoon-169..png\n",
      "1279raccoon-17..png\n",
      "1280raccoon-170..png\n",
      "1281raccoon-171..png\n",
      "1282raccoon-172..png\n",
      "1283raccoon-173..png\n",
      "1284raccoon-174..png\n",
      "1285raccoon-175..png\n",
      "1286raccoon-176..png\n",
      "1287raccoon-177..png\n",
      "1288raccoon-178..png\n",
      "1289raccoon-179..png\n",
      "1290raccoon-18..png\n",
      "1291raccoon-180..png\n",
      "1292raccoon-181..png\n",
      "1293raccoon-182..png\n",
      "1294raccoon-183..png\n",
      "1295raccoon-184..png\n",
      "1296raccoon-185..png\n",
      "1297raccoon-186..png\n",
      "1298raccoon-187..png\n",
      "1299raccoon-188..png\n",
      "1300raccoon-189..png\n",
      "1301raccoon-19..png\n",
      "1302raccoon-190..png\n",
      "1303raccoon-191..png\n",
      "1304raccoon-192..png\n",
      "1305raccoon-193..png\n",
      "1306raccoon-194..png\n",
      "1307raccoon-195..png\n",
      "1308raccoon-196..png\n",
      "1309raccoon-197..png\n",
      "1310raccoon-198..png\n",
      "1311raccoon-199..png\n",
      "1312raccoon-2..png\n",
      "1313raccoon-20..png\n",
      "1314raccoon-200..png\n",
      "1315raccoon-21..png\n",
      "1316raccoon-22..png\n",
      "1317raccoon-23..png\n",
      "1318raccoon-24..png\n",
      "1319raccoon-25..png\n",
      "1320raccoon-26..png\n",
      "1321raccoon-27..png\n",
      "1322raccoon-28..png\n",
      "1323raccoon-29..png\n",
      "1324raccoon-3..png\n",
      "1325raccoon-30..png\n",
      "1326raccoon-31..png\n",
      "1327raccoon-32..png\n",
      "1328raccoon-33..png\n",
      "1329raccoon-34..png\n",
      "1330raccoon-35..png\n",
      "1331raccoon-36..png\n",
      "1332raccoon-37..png\n",
      "1333raccoon-38..png\n",
      "1334raccoon-39..png\n",
      "1335raccoon-4..png\n",
      "1336raccoon-40..png\n",
      "1337raccoon-41..png\n",
      "1338raccoon-42..png\n",
      "1339raccoon-43..png\n",
      "1340raccoon-44..png\n",
      "1341raccoon-45..png\n",
      "1342raccoon-46..png\n",
      "1343raccoon-47..png\n",
      "1344raccoon-48..png\n",
      "1345raccoon-49..png\n",
      "1346raccoon-5..png\n",
      "1347raccoon-50..png\n",
      "1348raccoon-51..png\n",
      "1349raccoon-52..png\n",
      "1350raccoon-53..png\n",
      "1351raccoon-54..png\n",
      "1352raccoon-55..png\n",
      "1353raccoon-56..png\n",
      "1354raccoon-57..png\n",
      "1355raccoon-58..png\n",
      "1356raccoon-59..png\n",
      "1357raccoon-6..png\n",
      "1358raccoon-60..png\n",
      "1359raccoon-61..png\n",
      "1360raccoon-62..png\n",
      "1361raccoon-63..png\n",
      "1362raccoon-64..png\n",
      "1363raccoon-65..png\n",
      "1364raccoon-66..png\n",
      "1365raccoon-67..png\n",
      "1366raccoon-68..png\n",
      "1367raccoon-69..png\n",
      "1368raccoon-7..png\n",
      "1369raccoon-70..png\n",
      "1370raccoon-71..png\n",
      "1371raccoon-72..png\n",
      "1372raccoon-73..png\n",
      "1373raccoon-74..png\n",
      "1374raccoon-75..png\n",
      "1375raccoon-76..png\n",
      "1376raccoon-77..png\n",
      "1377raccoon-78..png\n",
      "1378raccoon-79..png\n",
      "1379raccoon-8..png\n",
      "1380raccoon-80..png\n",
      "1381raccoon-81..png\n",
      "1382raccoon-82..png\n",
      "1383raccoon-83..png\n",
      "1384raccoon-84..png\n",
      "1385raccoon-85..png\n",
      "1386raccoon-86..png\n",
      "1387raccoon-87..png\n",
      "1388raccoon-88..png\n",
      "1389raccoon-89..png\n",
      "1390raccoon-9..png\n",
      "1391raccoon-90..png\n",
      "1392raccoon-91..png\n",
      "1393raccoon-92..png\n",
      "1394raccoon-93..png\n",
      "1395raccoon-94..png\n",
      "1396raccoon-95..png\n",
      "1397raccoon-96..png\n",
      "1398raccoon-97..png\n",
      "1399raccoon-98..png\n",
      "1400raccoon-99..png\n"
     ]
    }
   ],
   "source": [
    "\n",
    "#fix for two ..\n",
    "for filename in os.listdir(dirname):\n",
    "    if filename.endswith('..png'):\n",
    "        counter=counter+1\n",
    "        print(str(counter)+''+filename)\n",
    "        newFilename = filename[:-4]\n",
    "        os.system(\"move \" + dirname + \"\\\\\" + filename + \" \" + dirname + \"\\\\\" +newFilename+'png')"
   ]
  },
  {
   "cell_type": "code",
   "execution_count": 22,
   "metadata": {},
   "outputs": [],
   "source": [
    "dirname = 'C:\\\\Users\\\\Misha\\\\Downloads\\\\raccoon_dataset-master\\\\images'\n",
    "counter = 0"
   ]
  },
  {
   "cell_type": "code",
   "execution_count": 23,
   "metadata": {
    "scrolled": true
   },
   "outputs": [
    {
     "name": "stdout",
     "output_type": "stream",
     "text": [
      "1raccoon-1.jpg\n",
      "2raccoon-10.jpg\n",
      "3raccoon-100.jpg\n",
      "4raccoon-101.jpg\n",
      "5raccoon-102.jpg\n",
      "6raccoon-103.jpg\n",
      "7raccoon-104.jpg\n",
      "8raccoon-105.jpg\n",
      "9raccoon-106.jpg\n",
      "10raccoon-107.jpg\n",
      "11raccoon-108.jpg\n",
      "12raccoon-109.jpg\n",
      "13raccoon-11.jpg\n",
      "14raccoon-110.jpg\n",
      "15raccoon-111.jpg\n",
      "16raccoon-112.jpg\n",
      "17raccoon-113.jpg\n",
      "18raccoon-114.jpg\n",
      "19raccoon-115.jpg\n",
      "20raccoon-116.jpg\n",
      "21raccoon-117.jpg\n",
      "22raccoon-118.jpg\n",
      "23raccoon-119.jpg\n",
      "24raccoon-12.jpg\n",
      "25raccoon-120.jpg\n",
      "26raccoon-121.jpg\n",
      "27raccoon-122.jpg\n",
      "28raccoon-123.jpg\n",
      "29raccoon-124.jpg\n",
      "30raccoon-125.jpg\n",
      "31raccoon-126.jpg\n",
      "32raccoon-127.jpg\n",
      "33raccoon-128.jpg\n",
      "34raccoon-129.jpg\n",
      "35raccoon-13.jpg\n",
      "36raccoon-130.jpg\n",
      "37raccoon-131.jpg\n",
      "38raccoon-132.jpg\n",
      "39raccoon-133.jpg\n",
      "40raccoon-134.jpg\n",
      "41raccoon-135.jpg\n",
      "42raccoon-136.jpg\n",
      "43raccoon-137.jpg\n",
      "44raccoon-138.jpg\n",
      "45raccoon-139.jpg\n",
      "46raccoon-14.jpg\n",
      "47raccoon-140.jpg\n",
      "48raccoon-141.jpg\n",
      "49raccoon-142.jpg\n",
      "50raccoon-143.jpg\n",
      "51raccoon-144.jpg\n",
      "52raccoon-145.jpg\n",
      "53raccoon-146.jpg\n",
      "54raccoon-147.jpg\n",
      "55raccoon-148.jpg\n",
      "56raccoon-149.jpg\n",
      "57raccoon-15.jpg\n",
      "58raccoon-150.jpg\n",
      "59raccoon-151.jpg\n",
      "60raccoon-152.jpg\n",
      "61raccoon-153.jpg\n",
      "62raccoon-154.jpg\n",
      "63raccoon-155.jpg\n",
      "64raccoon-156.jpg\n",
      "65raccoon-157.jpg\n",
      "66raccoon-158.jpg\n",
      "67raccoon-159.jpg\n",
      "68raccoon-16.jpg\n",
      "69raccoon-160.jpg\n",
      "70raccoon-161.jpg\n",
      "71raccoon-162.jpg\n",
      "72raccoon-163.jpg\n",
      "73raccoon-164.jpg\n",
      "74raccoon-165.jpg\n",
      "75raccoon-166.jpg\n",
      "76raccoon-167.jpg\n",
      "77raccoon-168.jpg\n",
      "78raccoon-169.jpg\n",
      "79raccoon-17.jpg\n",
      "80raccoon-170.jpg\n",
      "81raccoon-171.jpg\n",
      "82raccoon-172.jpg\n",
      "83raccoon-173.jpg\n",
      "84raccoon-174.jpg\n",
      "85raccoon-175.jpg\n",
      "86raccoon-176.jpg\n",
      "87raccoon-177.jpg\n",
      "88raccoon-178.jpg\n",
      "89raccoon-179.jpg\n",
      "90raccoon-18.jpg\n",
      "91raccoon-180.jpg\n",
      "92raccoon-181.jpg\n",
      "93raccoon-182.jpg\n",
      "94raccoon-183.jpg\n",
      "95raccoon-184.jpg\n",
      "96raccoon-185.jpg\n",
      "97raccoon-186.jpg\n",
      "98raccoon-187.jpg\n",
      "99raccoon-188.jpg\n",
      "100raccoon-189.jpg\n",
      "101raccoon-19.jpg\n",
      "102raccoon-190.jpg\n",
      "103raccoon-191.jpg\n",
      "104raccoon-192.jpg\n",
      "105raccoon-193.jpg\n",
      "106raccoon-194.jpg\n",
      "107raccoon-195.jpg\n",
      "108raccoon-196.jpg\n",
      "109raccoon-197.jpg\n",
      "110raccoon-198.jpg\n",
      "111raccoon-199.jpg\n",
      "112raccoon-2.jpg\n",
      "113raccoon-20.jpg\n",
      "114raccoon-200.jpg\n",
      "115raccoon-21.jpg\n",
      "116raccoon-22.jpg\n",
      "117raccoon-23.jpg\n",
      "118raccoon-24.jpg\n",
      "119raccoon-25.jpg\n",
      "120raccoon-26.jpg\n",
      "121raccoon-27.jpg\n",
      "122raccoon-28.jpg\n",
      "123raccoon-29.jpg\n",
      "124raccoon-3.jpg\n",
      "125raccoon-30.jpg\n",
      "126raccoon-31.jpg\n",
      "127raccoon-32.jpg\n",
      "128raccoon-33.jpg\n",
      "129raccoon-34.jpg\n",
      "130raccoon-35.jpg\n",
      "131raccoon-36.jpg\n",
      "132raccoon-37.jpg\n",
      "133raccoon-38.jpg\n",
      "134raccoon-39.jpg\n",
      "135raccoon-4.jpg\n",
      "136raccoon-40.jpg\n",
      "137raccoon-41.jpg\n",
      "138raccoon-42.jpg\n",
      "139raccoon-43.jpg\n",
      "140raccoon-44.jpg\n",
      "141raccoon-45.jpg\n",
      "142raccoon-46.jpg\n",
      "143raccoon-47.jpg\n",
      "144raccoon-48.jpg\n",
      "145raccoon-49.jpg\n",
      "146raccoon-5.jpg\n",
      "147raccoon-50.jpg\n",
      "148raccoon-51.jpg\n",
      "149raccoon-52.jpg\n",
      "150raccoon-53.jpg\n",
      "151raccoon-54.jpg\n",
      "152raccoon-55.jpg\n",
      "153raccoon-56.jpg\n",
      "154raccoon-57.jpg\n",
      "155raccoon-58.jpg\n",
      "156raccoon-59.jpg\n",
      "157raccoon-6.jpg\n",
      "158raccoon-60.jpg\n",
      "159raccoon-61.jpg\n",
      "160raccoon-62.jpg\n",
      "161raccoon-63.jpg\n",
      "162raccoon-64.jpg\n",
      "163raccoon-65.jpg\n",
      "164raccoon-66.jpg\n",
      "165raccoon-67.jpg\n",
      "166raccoon-68.jpg\n",
      "167raccoon-69.jpg\n",
      "168raccoon-7.jpg\n",
      "169raccoon-70.jpg\n",
      "170raccoon-71.jpg\n",
      "171raccoon-72.jpg\n",
      "172raccoon-73.jpg\n",
      "173raccoon-74.jpg\n",
      "174raccoon-75.jpg\n",
      "175raccoon-76.jpg\n",
      "176raccoon-77.jpg\n",
      "177raccoon-78.jpg\n",
      "178raccoon-79.jpg\n",
      "179raccoon-8.jpg\n",
      "180raccoon-80.jpg\n",
      "181raccoon-81.jpg\n",
      "182raccoon-82.jpg\n",
      "183raccoon-83.jpg\n",
      "184raccoon-84.jpg\n",
      "185raccoon-85.jpg\n",
      "186raccoon-86.jpg\n",
      "187raccoon-87.jpg\n",
      "188raccoon-88.jpg\n",
      "189raccoon-89.jpg\n",
      "190raccoon-9.jpg\n",
      "191raccoon-90.jpg\n",
      "192raccoon-91.jpg\n",
      "193raccoon-92.jpg\n",
      "194raccoon-93.jpg\n",
      "195raccoon-94.jpg\n",
      "196raccoon-95.jpg\n",
      "197raccoon-96.jpg\n",
      "198raccoon-97.jpg\n",
      "199raccoon-98.jpg\n",
      "200raccoon-99.jpg\n"
     ]
    }
   ],
   "source": [
    "for filename in os.listdir(dirname):\n",
    "    if filename.endswith('jpg'):\n",
    "        counter=counter+1\n",
    "        print(str(counter)+''+filename)\n",
    "        im=Image.open(dirname + \"/\" + filename)\n",
    "        newFilename = filename[:-3]\n",
    "        im.save(dirname + \"/\"+ newFilename+'png')\n",
    "        os.remove(dirname + \"/\" + filename)"
   ]
  },
  {
   "cell_type": "code",
   "execution_count": 18,
   "metadata": {},
   "outputs": [],
   "source": [
    "!cd .."
   ]
  },
  {
   "cell_type": "code",
   "execution_count": 31,
   "metadata": {},
   "outputs": [
    {
     "name": "stdout",
     "output_type": "stream",
     "text": [
      "Successfully converted xml to csv.\n"
     ]
    }
   ],
   "source": [
    "# %load xml_to_csv.py\n",
    "import os\n",
    "import glob\n",
    "import pandas as pd\n",
    "import xml.etree.ElementTree as ET\n",
    "\n",
    "\n",
    "def xml_to_csv(path):\n",
    "    xml_list = []\n",
    "    for xml_file in glob.glob(path + '/*.xml'):\n",
    "        tree = ET.parse(xml_file)\n",
    "        root = tree.getroot()\n",
    "        for member in root.findall('object'):\n",
    "            value = (root.find('filename').text,\n",
    "                     int(root.find('size')[0].text),\n",
    "                     int(root.find('size')[1].text),\n",
    "                     member[0].text,\n",
    "                     int(member[4][0].text),\n",
    "                     int(member[4][1].text),\n",
    "                     int(member[4][2].text),\n",
    "                     int(member[4][3].text)\n",
    "                     )\n",
    "            xml_list.append(value)\n",
    "    column_name = ['filename', 'width', 'height', 'class', 'xmin', 'ymin', 'xmax', 'ymax']\n",
    "    xml_df = pd.DataFrame(xml_list, columns=column_name)\n",
    "    return xml_df\n",
    "\n",
    "\n",
    "def main():\n",
    "    image_path = os.path.join(os.getcwd(), 'annotations')\n",
    "    xml_df = xml_to_csv(image_path)\n",
    "    xml_df.to_csv('raccoon_labels.csv', index=None)\n",
    "    print('Successfully converted xml to csv.')\n",
    "\n",
    "\n",
    "main()\n"
   ]
  },
  {
   "cell_type": "code",
   "execution_count": 35,
   "metadata": {},
   "outputs": [
    {
     "data": {
      "text/plain": [
       "0"
      ]
     },
     "execution_count": 35,
     "metadata": {},
     "output_type": "execute_result"
    }
   ],
   "source": [
    "os.system(sys.executable + \" xml_to_csv.py\")"
   ]
  },
  {
   "cell_type": "code",
   "execution_count": 37,
   "metadata": {
    "scrolled": true
   },
   "outputs": [],
   "source": [
    "xmldf = xml_to_csv('C:\\\\Users\\\\Misha\\\\Downloads\\\\raccoon_dataset-master\\\\annotations')"
   ]
  },
  {
   "cell_type": "code",
   "execution_count": null,
   "metadata": {},
   "outputs": [],
   "source": []
  },
  {
   "cell_type": "code",
   "execution_count": null,
   "metadata": {},
   "outputs": [],
   "source": []
  },
  {
   "cell_type": "code",
   "execution_count": 12,
   "metadata": {},
   "outputs": [
    {
     "data": {
      "text/plain": [
       "'C:\\\\Users\\\\Misha\\\\Documents'"
      ]
     },
     "execution_count": 12,
     "metadata": {},
     "output_type": "execute_result"
    }
   ],
   "source": [
    "os.getcwd()"
   ]
  },
  {
   "cell_type": "code",
   "execution_count": 34,
   "metadata": {},
   "outputs": [
    {
     "data": {
      "text/plain": [
       "'C:\\\\ProgramData\\\\Anaconda3\\\\python.exe'"
      ]
     },
     "execution_count": 34,
     "metadata": {},
     "output_type": "execute_result"
    }
   ],
   "source": [
    "import sys\n",
    "sys.executable"
   ]
  },
  {
   "cell_type": "code",
   "execution_count": 8,
   "metadata": {},
   "outputs": [
    {
     "name": "stdout",
     "output_type": "stream",
     "text": [
      " Volume in drive C has no label.\n",
      " Volume Serial Number is 22AD-19D4\n",
      "\n",
      " Directory of C:\\Users\\Misha\\Documents\n",
      "\n",
      "09-Sep-18  08:13 PM    <DIR>          .\n",
      "09-Sep-18  08:13 PM    <DIR>          ..\n",
      "01-Aug-16  02:02 PM    <DIR>          4A Games\n",
      "23-Oct-16  10:20 AM           506,226 4kbh.xcf\n",
      "28-Nov-17  09:37 PM            46,751 backgroundstart.xcf\n",
      "01-Mar-18  09:55 PM    <DIR>          BAttleship\n",
      "29-May-17  03:38 PM         1,098,731 bear.xcf\n",
      "27-Aug-17  01:00 PM         3,605,528 CCF08272017_0001.pdf\n",
      "19-Oct-17  07:04 PM             2,426 csgolikequake.nip\n",
      "21-May-17  06:35 PM    <DIR>          Curse\n",
      "18-Jan-18  03:55 PM               740 Desktop - Shortcut.lnk\n",
      "18-Nov-16  04:52 PM    <DIR>          Deus Ex -  Mankind Divided\n",
      "03-Sep-17  05:38 PM           625,094 doggo.xcf\n",
      "20-May-17  10:46 PM    <DIR>          Euro Truck Simulator 2\n",
      "11-Sep-17  04:10 PM    <DIR>          FeedbackHub\n",
      "12-Oct-15  10:25 PM         2,102,653 Gluhovskii_Dmitrii_Metro_2033_Litmir.pdf\n",
      "12-Oct-15  10:25 PM         1,028,765 gluhovskiy_dmitriy_metro_2033.txt\n",
      "27-Sep-16  08:05 PM    <DIR>          HpReg_Backup\n",
      "20-Sep-18  09:31 PM    <DIR>          jupyter\n",
      "17-Sep-16  07:36 PM    <DIR>          League of Legends\n",
      "12-May-16  07:07 PM             2,789 minecraft.txt\n",
      "01-May-16  03:15 PM             2,378 MumbleAutomaticCertificateBackup.p12\n",
      "19-Aug-16  03:35 PM    <DIR>          My Cheat Tables\n",
      "13-May-18  07:46 PM    <DIR>          My Games\n",
      "28-Aug-16  06:49 PM    <DIR>          NFS Carbon\n",
      "08-May-16  03:33 PM             4,162 old tf2 cfg.cfg\n",
      "02-May-16  03:45 PM    <DIR>          Overwatch\n",
      "27-Apr-17  04:26 PM           112,871 rat.xcf\n",
      "06-Jan-18  07:23 PM           920,988 Richard_P_Feynman-Surely_Youre_Joking_Mr_Feynman_v5.pdf\n",
      "15-Jan-18  07:36 PM           127,488 RS_recommendation.doc\n",
      "15-Jan-18  07:21 PM           170,672 RS_recommendation1.pdf\n",
      "21-Apr-18  03:46 PM    <DIR>          school\n",
      "05-Sep-17  09:43 PM           236,127 smorc.xcf\n",
      "04-Aug-18  12:33 PM         4,076,212 spring1617_assignment3_v3.zip\n",
      "03-May-16  04:46 PM            59,072 stuff.png\n",
      "03-May-16  04:46 PM           175,209 stuff.xcf\n",
      "02-Mar-18  09:06 PM    <DIR>          workplace\n",
      "              20 File(s)     14,904,882 bytes\n",
      "              17 Dir(s)  462,396,186,624 bytes free\n"
     ]
    }
   ],
   "source": [
    "!dir"
   ]
  },
  {
   "cell_type": "code",
   "execution_count": 10,
   "metadata": {},
   "outputs": [],
   "source": [
    "!cd .."
   ]
  },
  {
   "cell_type": "code",
   "execution_count": 13,
   "metadata": {},
   "outputs": [],
   "source": []
  },
  {
   "cell_type": "code",
   "execution_count": null,
   "metadata": {},
   "outputs": [],
   "source": []
  }
 ],
 "metadata": {
  "kernelspec": {
   "display_name": "Python 3",
   "language": "python",
   "name": "python3"
  },
  "language_info": {
   "codemirror_mode": {
    "name": "ipython",
    "version": 3
   },
   "file_extension": ".py",
   "mimetype": "text/x-python",
   "name": "python",
   "nbconvert_exporter": "python",
   "pygments_lexer": "ipython3",
   "version": "3.6.4"
  }
 },
 "nbformat": 4,
 "nbformat_minor": 2
}
