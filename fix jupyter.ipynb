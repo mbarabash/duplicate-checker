{
 "cells": [
  {
   "cell_type": "code",
   "execution_count": 1,
   "metadata": {
    "ExecuteTime": {
     "end_time": "2019-08-30T01:53:28.275087Z",
     "start_time": "2019-08-30T01:53:28.250130Z"
    }
   },
   "outputs": [
    {
     "name": "stdout",
     "output_type": "stream",
     "text": [
      "File C:\\Users\\Misha\\.jupyter\\nbconfig\\notebook.json is OK.\n",
      "File C:\\ProgramData\\Anaconda3\\etc\\jupyter\\nbconfig\\notebook.json is OK.\n",
      "File C:\\ProgramData\\Anaconda3\\etc\\jupyter\\nbconfig\\tree.json is OK.\n"
     ]
    }
   ],
   "source": [
    "import glob\n",
    "import os\n",
    "import json\n",
    "from jupyter_core.paths import jupyter_config_path\n",
    "\n",
    "for d in jupyter_config_path():\n",
    "    for p in glob.glob(os.path.join(d, 'nbconfig', '*.json')):\n",
    "        try:\n",
    "            with open(p, 'r') as f:\n",
    "                json.load(f)\n",
    "            print('File {0} is OK.'.format(p))\n",
    "        except json.decoder.JSONDecodeError:\n",
    "            print('Failed JSON file is:', p)"
   ]
  },
  {
   "cell_type": "markdown",
   "metadata": {},
   "source": [
    "{\n",
    "  \"load_extensions\": {\n",
    "    \"snippets/main\": true,\n",
    "    \"cell_filter/cell_filter\": false,\n",
    "    \"varInspector/main\": true,\n",
    "    \"execute_time/ExecuteTime\": true,\n",
    "    \"toggle_all_line_numbers/main\": true,\n",
    "    \"scratchpad/main\": true,\n",
    "    \"freeze/main\": true,\n",
    "    \"table_beautifier/main\": false,\n",
    "    \"hinterland/hinterland\": true,\n",
    "    \"hide_input/main\": true\n",
    "  }\n",
    "}\n",
    "{\n",
    "  \"MarkdownCell\": {\n",
    "    \"cm_config\": {\n",
    "      \"lineWrapping\": true\n",
    "    }\n",
    "  },\n",
    "  \"CodeCell\": {\n",
    "    \"cm_config\": {\n",
    "      \"lineWrapping\": true\n",
    "    }\n",
    "  }\n",
    "}"
   ]
  },
  {
   "cell_type": "markdown",
   "metadata": {},
   "source": [
    "This is invalid JSON, so the error can be expected. You can either remove the second part of the file or fix the structure and merge the two parts by removing lines 14&15 and adding a ,.\n",
    "Try pasting it at https://jsonlint.com so you can check if it is valid JSON."
   ]
  }
 ],
 "metadata": {
  "kernelspec": {
   "display_name": "Python 3",
   "language": "python",
   "name": "python3"
  },
  "language_info": {
   "codemirror_mode": {
    "name": "ipython",
    "version": 3
   },
   "file_extension": ".py",
   "mimetype": "text/x-python",
   "name": "python",
   "nbconvert_exporter": "python",
   "pygments_lexer": "ipython3",
   "version": "3.6.4"
  }
 },
 "nbformat": 4,
 "nbformat_minor": 2
}
